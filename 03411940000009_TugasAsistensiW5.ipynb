{
 "cells": [
  {
   "cell_type": "code",
   "execution_count": 1,
   "metadata": {},
   "outputs": [],
   "source": [
    "import pandas as pd"
   ]
  },
  {
   "cell_type": "code",
   "execution_count": 2,
   "metadata": {},
   "outputs": [],
   "source": [
    "data=pd.read_csv('https://raw.githubusercontent.com/DyanKartikasari/TugasAsistensiW5/master/DataKependudukanSurabaya2019.csv')"
   ]
  },
  {
   "cell_type": "code",
   "execution_count": 3,
   "metadata": {},
   "outputs": [
    {
     "data": {
      "text/html": [
       "<div>\n",
       "<style scoped>\n",
       "    .dataframe tbody tr th:only-of-type {\n",
       "        vertical-align: middle;\n",
       "    }\n",
       "\n",
       "    .dataframe tbody tr th {\n",
       "        vertical-align: top;\n",
       "    }\n",
       "\n",
       "    .dataframe thead th {\n",
       "        text-align: right;\n",
       "    }\n",
       "</style>\n",
       "<table border=\"1\" class=\"dataframe\">\n",
       "  <thead>\n",
       "    <tr style=\"text-align: right;\">\n",
       "      <th></th>\n",
       "      <th>umur</th>\n",
       "      <th>laki-laki</th>\n",
       "      <th>perempuan</th>\n",
       "      <th>jumlah</th>\n",
       "    </tr>\n",
       "  </thead>\n",
       "  <tbody>\n",
       "    <tr>\n",
       "      <td>0</td>\n",
       "      <td>0-4</td>\n",
       "      <td>107043</td>\n",
       "      <td>102663</td>\n",
       "      <td>209706</td>\n",
       "    </tr>\n",
       "    <tr>\n",
       "      <td>1</td>\n",
       "      <td>5-9</td>\n",
       "      <td>107536</td>\n",
       "      <td>103436</td>\n",
       "      <td>210972</td>\n",
       "    </tr>\n",
       "    <tr>\n",
       "      <td>2</td>\n",
       "      <td>10-14</td>\n",
       "      <td>98976</td>\n",
       "      <td>95048</td>\n",
       "      <td>194024</td>\n",
       "    </tr>\n",
       "    <tr>\n",
       "      <td>3</td>\n",
       "      <td>15-19</td>\n",
       "      <td>108479</td>\n",
       "      <td>118284</td>\n",
       "      <td>226763</td>\n",
       "    </tr>\n",
       "    <tr>\n",
       "      <td>4</td>\n",
       "      <td>20-24</td>\n",
       "      <td>144661</td>\n",
       "      <td>147358</td>\n",
       "      <td>292019</td>\n",
       "    </tr>\n",
       "  </tbody>\n",
       "</table>\n",
       "</div>"
      ],
      "text/plain": [
       "    umur  laki-laki  perempuan  jumlah\n",
       "0    0-4     107043     102663  209706\n",
       "1    5-9     107536     103436  210972\n",
       "2  10-14      98976      95048  194024\n",
       "3  15-19     108479     118284  226763\n",
       "4  20-24     144661     147358  292019"
      ]
     },
     "execution_count": 3,
     "metadata": {},
     "output_type": "execute_result"
    }
   ],
   "source": [
    "data.head()"
   ]
  },
  {
   "cell_type": "code",
   "execution_count": 4,
   "metadata": {},
   "outputs": [
    {
     "data": {
      "text/html": [
       "<div>\n",
       "<style scoped>\n",
       "    .dataframe tbody tr th:only-of-type {\n",
       "        vertical-align: middle;\n",
       "    }\n",
       "\n",
       "    .dataframe tbody tr th {\n",
       "        vertical-align: top;\n",
       "    }\n",
       "\n",
       "    .dataframe thead th {\n",
       "        text-align: right;\n",
       "    }\n",
       "</style>\n",
       "<table border=\"1\" class=\"dataframe\">\n",
       "  <thead>\n",
       "    <tr style=\"text-align: right;\">\n",
       "      <th></th>\n",
       "      <th>umur</th>\n",
       "      <th>laki-laki</th>\n",
       "      <th>perempuan</th>\n",
       "      <th>jumlah</th>\n",
       "    </tr>\n",
       "  </thead>\n",
       "  <tbody>\n",
       "    <tr>\n",
       "      <td>11</td>\n",
       "      <td>55-59</td>\n",
       "      <td>72281</td>\n",
       "      <td>79841</td>\n",
       "      <td>152122</td>\n",
       "    </tr>\n",
       "    <tr>\n",
       "      <td>12</td>\n",
       "      <td>60-64</td>\n",
       "      <td>52247</td>\n",
       "      <td>52420</td>\n",
       "      <td>104667</td>\n",
       "    </tr>\n",
       "    <tr>\n",
       "      <td>13</td>\n",
       "      <td>65-69</td>\n",
       "      <td>35742</td>\n",
       "      <td>33603</td>\n",
       "      <td>69345</td>\n",
       "    </tr>\n",
       "    <tr>\n",
       "      <td>14</td>\n",
       "      <td>70-74</td>\n",
       "      <td>19089</td>\n",
       "      <td>20853</td>\n",
       "      <td>39942</td>\n",
       "    </tr>\n",
       "    <tr>\n",
       "      <td>15</td>\n",
       "      <td>75+</td>\n",
       "      <td>16545</td>\n",
       "      <td>25508</td>\n",
       "      <td>42053</td>\n",
       "    </tr>\n",
       "  </tbody>\n",
       "</table>\n",
       "</div>"
      ],
      "text/plain": [
       "     umur  laki-laki  perempuan  jumlah\n",
       "11  55-59      72281      79841  152122\n",
       "12  60-64      52247      52420  104667\n",
       "13  65-69      35742      33603   69345\n",
       "14  70-74      19089      20853   39942\n",
       "15    75+      16545      25508   42053"
      ]
     },
     "execution_count": 4,
     "metadata": {},
     "output_type": "execute_result"
    }
   ],
   "source": [
    "data.tail()"
   ]
  },
  {
   "cell_type": "code",
   "execution_count": 5,
   "metadata": {},
   "outputs": [
    {
     "name": "stdout",
     "output_type": "stream",
     "text": [
      "<class 'pandas.core.frame.DataFrame'>\n",
      "RangeIndex: 16 entries, 0 to 15\n",
      "Data columns (total 4 columns):\n",
      "umur         16 non-null object\n",
      "laki-laki    16 non-null int64\n",
      "perempuan    16 non-null int64\n",
      "jumlah       16 non-null int64\n",
      "dtypes: int64(3), object(1)\n",
      "memory usage: 640.0+ bytes\n"
     ]
    }
   ],
   "source": [
    "data.info()"
   ]
  },
  {
   "cell_type": "code",
   "execution_count": 6,
   "metadata": {
    "scrolled": true
   },
   "outputs": [
    {
     "data": {
      "text/html": [
       "<div>\n",
       "<style scoped>\n",
       "    .dataframe tbody tr th:only-of-type {\n",
       "        vertical-align: middle;\n",
       "    }\n",
       "\n",
       "    .dataframe tbody tr th {\n",
       "        vertical-align: top;\n",
       "    }\n",
       "\n",
       "    .dataframe thead th {\n",
       "        text-align: right;\n",
       "    }\n",
       "</style>\n",
       "<table border=\"1\" class=\"dataframe\">\n",
       "  <thead>\n",
       "    <tr style=\"text-align: right;\">\n",
       "      <th></th>\n",
       "      <th>laki-laki</th>\n",
       "      <th>perempuan</th>\n",
       "      <th>jumlah</th>\n",
       "    </tr>\n",
       "  </thead>\n",
       "  <tbody>\n",
       "    <tr>\n",
       "      <td>count</td>\n",
       "      <td>16.000000</td>\n",
       "      <td>16.000000</td>\n",
       "      <td>16.000000</td>\n",
       "    </tr>\n",
       "    <tr>\n",
       "      <td>mean</td>\n",
       "      <td>89436.750000</td>\n",
       "      <td>91575.437500</td>\n",
       "      <td>181012.187500</td>\n",
       "    </tr>\n",
       "    <tr>\n",
       "      <td>std</td>\n",
       "      <td>39719.123318</td>\n",
       "      <td>38986.966639</td>\n",
       "      <td>78562.464808</td>\n",
       "    </tr>\n",
       "    <tr>\n",
       "      <td>min</td>\n",
       "      <td>16545.000000</td>\n",
       "      <td>20853.000000</td>\n",
       "      <td>39942.000000</td>\n",
       "    </tr>\n",
       "    <tr>\n",
       "      <td>25%</td>\n",
       "      <td>67272.500000</td>\n",
       "      <td>72985.750000</td>\n",
       "      <td>140258.250000</td>\n",
       "    </tr>\n",
       "    <tr>\n",
       "      <td>50%</td>\n",
       "      <td>102409.500000</td>\n",
       "      <td>102113.500000</td>\n",
       "      <td>203324.500000</td>\n",
       "    </tr>\n",
       "    <tr>\n",
       "      <td>75%</td>\n",
       "      <td>110607.250000</td>\n",
       "      <td>118514.500000</td>\n",
       "      <td>229121.750000</td>\n",
       "    </tr>\n",
       "    <tr>\n",
       "      <td>max</td>\n",
       "      <td>144661.000000</td>\n",
       "      <td>147358.000000</td>\n",
       "      <td>292019.000000</td>\n",
       "    </tr>\n",
       "  </tbody>\n",
       "</table>\n",
       "</div>"
      ],
      "text/plain": [
       "           laki-laki      perempuan         jumlah\n",
       "count      16.000000      16.000000      16.000000\n",
       "mean    89436.750000   91575.437500  181012.187500\n",
       "std     39719.123318   38986.966639   78562.464808\n",
       "min     16545.000000   20853.000000   39942.000000\n",
       "25%     67272.500000   72985.750000  140258.250000\n",
       "50%    102409.500000  102113.500000  203324.500000\n",
       "75%    110607.250000  118514.500000  229121.750000\n",
       "max    144661.000000  147358.000000  292019.000000"
      ]
     },
     "execution_count": 6,
     "metadata": {},
     "output_type": "execute_result"
    }
   ],
   "source": [
    "data.describe()"
   ]
  },
  {
   "cell_type": "code",
   "execution_count": 7,
   "metadata": {
    "scrolled": true
   },
   "outputs": [
    {
     "data": {
      "text/html": [
       "<div>\n",
       "<style scoped>\n",
       "    .dataframe tbody tr th:only-of-type {\n",
       "        vertical-align: middle;\n",
       "    }\n",
       "\n",
       "    .dataframe tbody tr th {\n",
       "        vertical-align: top;\n",
       "    }\n",
       "\n",
       "    .dataframe thead th {\n",
       "        text-align: right;\n",
       "    }\n",
       "</style>\n",
       "<table border=\"1\" class=\"dataframe\">\n",
       "  <thead>\n",
       "    <tr style=\"text-align: right;\">\n",
       "      <th></th>\n",
       "      <th>laki-laki</th>\n",
       "      <th>perempuan</th>\n",
       "    </tr>\n",
       "    <tr>\n",
       "      <th>jumlah</th>\n",
       "      <th></th>\n",
       "      <th></th>\n",
       "    </tr>\n",
       "  </thead>\n",
       "  <tbody>\n",
       "    <tr>\n",
       "      <td>39942</td>\n",
       "      <td>19089</td>\n",
       "      <td>20853</td>\n",
       "    </tr>\n",
       "    <tr>\n",
       "      <td>42053</td>\n",
       "      <td>16545</td>\n",
       "      <td>25508</td>\n",
       "    </tr>\n",
       "    <tr>\n",
       "      <td>69345</td>\n",
       "      <td>35742</td>\n",
       "      <td>33603</td>\n",
       "    </tr>\n",
       "    <tr>\n",
       "      <td>104667</td>\n",
       "      <td>52247</td>\n",
       "      <td>52420</td>\n",
       "    </tr>\n",
       "    <tr>\n",
       "      <td>152122</td>\n",
       "      <td>72281</td>\n",
       "      <td>79841</td>\n",
       "    </tr>\n",
       "    <tr>\n",
       "      <td>181752</td>\n",
       "      <td>86854</td>\n",
       "      <td>94898</td>\n",
       "    </tr>\n",
       "    <tr>\n",
       "      <td>194024</td>\n",
       "      <td>98976</td>\n",
       "      <td>95048</td>\n",
       "    </tr>\n",
       "    <tr>\n",
       "      <td>196943</td>\n",
       "      <td>95379</td>\n",
       "      <td>101564</td>\n",
       "    </tr>\n",
       "    <tr>\n",
       "      <td>209706</td>\n",
       "      <td>107043</td>\n",
       "      <td>102663</td>\n",
       "    </tr>\n",
       "    <tr>\n",
       "      <td>210972</td>\n",
       "      <td>107536</td>\n",
       "      <td>103436</td>\n",
       "    </tr>\n",
       "    <tr>\n",
       "      <td>214689</td>\n",
       "      <td>105843</td>\n",
       "      <td>108846</td>\n",
       "    </tr>\n",
       "    <tr>\n",
       "      <td>226763</td>\n",
       "      <td>108479</td>\n",
       "      <td>118284</td>\n",
       "    </tr>\n",
       "    <tr>\n",
       "      <td>236198</td>\n",
       "      <td>116992</td>\n",
       "      <td>119206</td>\n",
       "    </tr>\n",
       "    <tr>\n",
       "      <td>252076</td>\n",
       "      <td>125978</td>\n",
       "      <td>126098</td>\n",
       "    </tr>\n",
       "    <tr>\n",
       "      <td>272924</td>\n",
       "      <td>137343</td>\n",
       "      <td>135581</td>\n",
       "    </tr>\n",
       "    <tr>\n",
       "      <td>292019</td>\n",
       "      <td>144661</td>\n",
       "      <td>147358</td>\n",
       "    </tr>\n",
       "  </tbody>\n",
       "</table>\n",
       "</div>"
      ],
      "text/plain": [
       "        laki-laki  perempuan\n",
       "jumlah                      \n",
       "39942       19089      20853\n",
       "42053       16545      25508\n",
       "69345       35742      33603\n",
       "104667      52247      52420\n",
       "152122      72281      79841\n",
       "181752      86854      94898\n",
       "194024      98976      95048\n",
       "196943      95379     101564\n",
       "209706     107043     102663\n",
       "210972     107536     103436\n",
       "214689     105843     108846\n",
       "226763     108479     118284\n",
       "236198     116992     119206\n",
       "252076     125978     126098\n",
       "272924     137343     135581\n",
       "292019     144661     147358"
      ]
     },
     "execution_count": 7,
     "metadata": {},
     "output_type": "execute_result"
    }
   ],
   "source": [
    "data.groupby('jumlah').mean()"
   ]
  },
  {
   "cell_type": "code",
   "execution_count": 8,
   "metadata": {},
   "outputs": [],
   "source": [
    "import matplotlib.pyplot as plt"
   ]
  },
  {
   "cell_type": "code",
   "execution_count": 9,
   "metadata": {
    "scrolled": true
   },
   "outputs": [
    {
     "data": {
      "image/png": "[encoded data removed]",
      "text/plain": [
       "<Figure size 360x360 with 1 Axes>"
      ]
     },
     "metadata": {
      "needs_background": "light"
     },
     "output_type": "display_data"
    }
   ],
   "source": [
    "plt.figure(figsize=(5,5))\n",
    "plt.plot(data['laki-laki'], label='laki-laki')\n",
    "plt.plot(data['perempuan'], label='perempuan')\n",
    "plt.xlabel('data count 2019')\n",
    "plt.ylabel('value')\n",
    "plt.title('penduduk kota surabaya 2019')\n",
    "plt.legend()\n",
    "plt.show()"
   ]
  },
  {
   "cell_type": "code",
   "execution_count": null,
   "metadata": {},
   "outputs": [],
   "source": []
  }
 ],
 "metadata": {
  "kernelspec": {
   "display_name": "Python 3",
   "language": "python",
   "name": "python3"
  },
  "language_info": {
   "codemirror_mode": {
    "name": "ipython",
    "version": 3
   },
   "file_extension": ".py",
   "mimetype": "text/x-python",
   "name": "python",
   "nbconvert_exporter": "python",
   "pygments_lexer": "ipython3",
   "version": "3.7.4"
  }
 },
 "nbformat": 4,
 "nbformat_minor": 2
}
